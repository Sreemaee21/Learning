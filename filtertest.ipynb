{
  "nbformat": 4,
  "nbformat_minor": 0,
  "metadata": {
    "colab": {
      "provenance": [],
      "include_colab_link": true
    },
    "kernelspec": {
      "name": "python3",
      "display_name": "Python 3"
    },
    "language_info": {
      "name": "python"
    }
  },
  "cells": [
    {
      "cell_type": "markdown",
      "metadata": {
        "id": "view-in-github",
        "colab_type": "text"
      },
      "source": [
        "<a href=\"https://colab.research.google.com/github/Sreemaee21/Learning/blob/main/filtertest.ipynb\" target=\"_parent\"><img src=\"https://colab.research.google.com/assets/colab-badge.svg\" alt=\"Open In Colab\"/></a>"
      ]
    },
    {
      "cell_type": "code",
      "execution_count": 4,
      "metadata": {
        "id": "SeAYKDJR8nZq"
      },
      "outputs": [],
      "source": [
        "import numpy as np\n",
        "from tensorflow import keras\n",
        "from tensorflow.keras import layers"
      ]
    },
    {
      "cell_type": "code",
      "source": [
        "# Model / data parameters\n",
        "num_classes = 100\n",
        "input_shape = (32, 32, 3)\n",
        "\n",
        "# Load the data and split it between train and test sets\n",
        "(x_train, y_train), (x_test, y_test) = keras.datasets.cifar100.load_data()\n",
        "\n",
        "print(\"x_train shape:\", x_train.shape)\n",
        "print(x_train.shape[0], \"train samples\")\n",
        "print(x_test.shape[0], \"test samples\")\n",
        "\n",
        "# convert class vectors to binary class matrices\n",
        "y_train = keras.utils.to_categorical(y_train, num_classes)\n",
        "y_test = keras.utils.to_categorical(y_test, num_classes)"
      ],
      "metadata": {
        "colab": {
          "base_uri": "https://localhost:8080/"
        },
        "id": "wmhlVwWX8vdM",
        "outputId": "0b9c2b50-8d3b-4643-d3c4-af3e7a25d8fc"
      },
      "execution_count": 5,
      "outputs": [
        {
          "output_type": "stream",
          "name": "stdout",
          "text": [
            "Downloading data from https://www.cs.toronto.edu/~kriz/cifar-100-python.tar.gz\n",
            "169001437/169001437 [==============================] - 3s 0us/step\n",
            "x_train shape: (50000, 32, 32, 3)\n",
            "50000 train samples\n",
            "10000 test samples\n"
          ]
        }
      ]
    },
    {
      "cell_type": "code",
      "source": [
        "model = keras.Sequential(\n",
        "    [   keras.Input(shape=input_shape),\n",
        "        layers.Conv2D(32, kernel_size=(3, 3), activation='relu'),\n",
        "        layers.MaxPooling2D(pool_size=(2, 2)),\n",
        "        layers.Conv2D(64, kernel_size=(3, 3), activation='relu'),\n",
        "        layers.MaxPooling2D(pool_size=(2, 2)),\n",
        "        layers.Conv2D(128, kernel_size=(3, 3), activation='relu'),\n",
        "        layers.MaxPooling2D(pool_size=(2, 2)),\n",
        "        layers.Flatten(),\n",
        "        layers.Dense(500, activation=\"relu\"),\n",
        "        layers.Dropout(0.5),\n",
        "        layers.Dense(num_classes, activation=\"softmax\"),\n",
        "    ]\n",
        ")\n",
        "\n",
        "model.summary()"
      ],
      "metadata": {
        "colab": {
          "base_uri": "https://localhost:8080/"
        },
        "id": "LsBph_Y18vm_",
        "outputId": "df09d3f4-fec3-4cac-97c9-5606fcbc7d18"
      },
      "execution_count": 7,
      "outputs": [
        {
          "output_type": "stream",
          "name": "stdout",
          "text": [
            "Model: \"sequential\"\n",
            "_________________________________________________________________\n",
            " Layer (type)                Output Shape              Param #   \n",
            "=================================================================\n",
            " conv2d_4 (Conv2D)           (None, 30, 30, 32)        896       \n",
            "                                                                 \n",
            " max_pooling2d_3 (MaxPooling  (None, 15, 15, 32)       0         \n",
            " 2D)                                                             \n",
            "                                                                 \n",
            " conv2d_5 (Conv2D)           (None, 13, 13, 64)        18496     \n",
            "                                                                 \n",
            " max_pooling2d_4 (MaxPooling  (None, 6, 6, 64)         0         \n",
            " 2D)                                                             \n",
            "                                                                 \n",
            " conv2d_6 (Conv2D)           (None, 4, 4, 128)         73856     \n",
            "                                                                 \n",
            " max_pooling2d_5 (MaxPooling  (None, 2, 2, 128)        0         \n",
            " 2D)                                                             \n",
            "                                                                 \n",
            " flatten (Flatten)           (None, 512)               0         \n",
            "                                                                 \n",
            " dense (Dense)               (None, 500)               256500    \n",
            "                                                                 \n",
            " dropout (Dropout)           (None, 500)               0         \n",
            "                                                                 \n",
            " dense_1 (Dense)             (None, 100)               50100     \n",
            "                                                                 \n",
            "=================================================================\n",
            "Total params: 399,848\n",
            "Trainable params: 399,848\n",
            "Non-trainable params: 0\n",
            "_________________________________________________________________\n"
          ]
        }
      ]
    },
    {
      "cell_type": "code",
      "source": [
        "batch_size = 128\n",
        "epochs = 10\n",
        "\n",
        "model.compile(loss=\"categorical_crossentropy\", optimizer=\"adam\", metrics=[\"accuracy\"])\n",
        "\n",
        "model.fit(x_train, y_train, batch_size=batch_size, epochs=epochs, validation_split=0.1)"
      ],
      "metadata": {
        "colab": {
          "base_uri": "https://localhost:8080/"
        },
        "id": "c9hm7yMQ8vvB",
        "outputId": "4c2e1675-cd91-4fe3-9d07-5b20c5eca58d"
      },
      "execution_count": 8,
      "outputs": [
        {
          "output_type": "stream",
          "name": "stdout",
          "text": [
            "Epoch 1/10\n",
            "352/352 [==============================] - 65s 182ms/step - loss: 4.5903 - accuracy: 0.0494 - val_loss: 3.9490 - val_accuracy: 0.1040\n",
            "Epoch 2/10\n",
            "352/352 [==============================] - 65s 184ms/step - loss: 3.8112 - accuracy: 0.1201 - val_loss: 3.5548 - val_accuracy: 0.1740\n",
            "Epoch 3/10\n",
            "352/352 [==============================] - 64s 181ms/step - loss: 3.5103 - accuracy: 0.1684 - val_loss: 3.3427 - val_accuracy: 0.2086\n",
            "Epoch 4/10\n",
            "352/352 [==============================] - 64s 181ms/step - loss: 3.2993 - accuracy: 0.2042 - val_loss: 3.2120 - val_accuracy: 0.2228\n",
            "Epoch 5/10\n",
            "352/352 [==============================] - 65s 185ms/step - loss: 3.1200 - accuracy: 0.2362 - val_loss: 3.0151 - val_accuracy: 0.2536\n",
            "Epoch 6/10\n",
            "352/352 [==============================] - 63s 180ms/step - loss: 3.0076 - accuracy: 0.2556 - val_loss: 3.0188 - val_accuracy: 0.2604\n",
            "Epoch 7/10\n",
            "352/352 [==============================] - 65s 185ms/step - loss: 2.8854 - accuracy: 0.2813 - val_loss: 2.9185 - val_accuracy: 0.2798\n",
            "Epoch 8/10\n",
            "352/352 [==============================] - 64s 182ms/step - loss: 2.7844 - accuracy: 0.3021 - val_loss: 2.8144 - val_accuracy: 0.3040\n",
            "Epoch 9/10\n",
            "352/352 [==============================] - 65s 183ms/step - loss: 2.6974 - accuracy: 0.3154 - val_loss: 2.8635 - val_accuracy: 0.2838\n",
            "Epoch 10/10\n",
            "352/352 [==============================] - 63s 179ms/step - loss: 2.6152 - accuracy: 0.3347 - val_loss: 2.8542 - val_accuracy: 0.2956\n"
          ]
        },
        {
          "output_type": "execute_result",
          "data": {
            "text/plain": [
              "<keras.callbacks.History at 0x7fae9c1e3a10>"
            ]
          },
          "metadata": {},
          "execution_count": 8
        }
      ]
    },
    {
      "cell_type": "code",
      "source": [
        "score = model.evaluate(x_test, y_test, verbose=0)\n",
        "print(\"Test loss:\", score[0])\n",
        "print(\"Test accuracy:\", score[1])"
      ],
      "metadata": {
        "colab": {
          "base_uri": "https://localhost:8080/"
        },
        "id": "3HIYJDbT8v2_",
        "outputId": "3ab9e699-1384-4f28-c1d2-173e5eb61adf"
      },
      "execution_count": 9,
      "outputs": [
        {
          "output_type": "stream",
          "name": "stdout",
          "text": [
            "Test loss: 2.839264154434204\n",
            "Test accuracy: 0.3052000105381012\n"
          ]
        }
      ]
    }
  ]
}